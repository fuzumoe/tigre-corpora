{
 "cells": [
  {
   "cell_type": "code",
   "execution_count": 8,
   "metadata": {},
   "outputs": [],
   "source": [
    "CORPUS_FILE_PATH = '/opt/upgrad/tigre-corpora/corpus'\n",
    "\n",
    "CORPUS_PUB_1_FILE_PATH = f'{CORPUS_FILE_PATH}/pub_1'\n",
    "CORPUS_PUB_2_FILE_PATH = f'{CORPUS_FILE_PATH}/pub_2'\n",
    "\n",
    "CORPUS_PUB_1_PDF_FILE_PATH = f'{CORPUS_PUB_1_FILE_PATH}/pdfs'\n",
    "CORPUS_PUB_2_PDF_FILE_PATH = f'{CORPUS_PUB_2_FILE_PATH}/pdfs'\n",
    "\n",
    "CORPUS_PUB_1_TEXT_FILE_PATH = f'{CORPUS_PUB_1_FILE_PATH}/texts'\n",
    "CORPUS_PUB_2_TEXT_FILE_PATH = f'{CORPUS_PUB_2_FILE_PATH}/texts'\n",
    "\n",
    "CORPUS_PUB_1_IMAGES_FILE_PATH = f'{CORPUS_PUB_1_FILE_PATH}/images'\n",
    "CORPUS_PUB_2_IMAGES_FILE_PATH = f'{CORPUS_PUB_2_FILE_PATH}/images'\n",
    "\n",
    "CORPUS_PUB_1_TIGRE_PDF_FILE_PATH = f'{CORPUS_PUB_1_PDF_FILE_PATH}/tigre.pdf'\n",
    "CORPUS_PUB_2_TIGRE_PDF_FILE_PATH = f'{CORPUS_PUB_2_PDF_FILE_PATH}/tigre.pdf'\n",
    "\n",
    "CORPUS_PUB_1_ENGLISH_PDF_FILE_PATH = f'{CORPUS_PUB_1_PDF_FILE_PATH}/english.pdf'\n",
    "CORPUS_PUB_2_ENGLISH_PDF_FILE_PATH = f'{CORPUS_PUB_2_PDF_FILE_PATH}/english.pdf'\n",
    "\n",
    "CORPUS_PUB_1_NGLISH_TEXT_FILE_PATH = f'{CORPUS_PUB_1_TEXT_FILE_PATH}/english.txt'\n",
    "CORPUS_PUB_2_ENGLISH_TEXT_FILE_PATH = f'{CORPUS_PUB_2_TEXT_FILE_PATH}/english.txt'\n",
    "\n",
    "CORPUS_PUB_1_TIGRE_TEXT_FILE_PATH = f'{CORPUS_PUB_1_TEXT_FILE_PATH}/tigre.txt'\n",
    "CORPUS_PUB_2_TIGRE_TEXT_FILE_PATH = f'{CORPUS_PUB_2_TEXT_FILE_PATH}/tigre.txt'\n",
    "\n",
    "CORPUS_PUB_1_IMAGES_ENGLISH_FILE_PATH = f'{CORPUS_PUB_1_IMAGES_FILE_PATH}/english'\n",
    "CORPUS_PUB_2_IMAGES_ENGLISH_FILE_PATH = f'{CORPUS_PUB_2_IMAGES_FILE_PATH}/english'\n",
    "\n",
    "CORPUS_PUB_1_IMAGES_TIGRE_FILE_PATH = f'{CORPUS_PUB_1_IMAGES_FILE_PATH}/tigre'\n",
    "CORPUS_PUB_2_IMAGES_TIGRE_FILE_PATH = f'{CORPUS_PUB_2_IMAGES_FILE_PATH}/tigre'"
   ]
  },
  {
   "cell_type": "code",
   "execution_count": 9,
   "metadata": {},
   "outputs": [
    {
     "name": "stdout",
     "output_type": "stream",
     "text": [
      "/opt/upgrad/tigre-corpora/corpus/pub_2/images/tigre\n",
      "/opt/upgrad/tigre-corpora/corpus/pub_2/images/tigre/0.jpg\n",
      "/opt/upgrad/tigre-corpora/corpus/pub_2/images/tigre/1.jpg\n",
      "/opt/upgrad/tigre-corpora/corpus/pub_2/images/tigre/2.jpg\n",
      "/opt/upgrad/tigre-corpora/corpus/pub_2/images/tigre/3.jpg\n",
      "/opt/upgrad/tigre-corpora/corpus/pub_2/images/tigre/4.jpg\n",
      "/opt/upgrad/tigre-corpora/corpus/pub_2/images/tigre/5.jpg\n"
     ]
    }
   ],
   "source": [
    "# TIGRE\n",
    "from pdf2image import convert_from_path\n",
    "print(CORPUS_PUB_2_IMAGES_TIGRE_FILE_PATH) \n",
    "\n",
    "images = convert_from_path(CORPUS_PUB_2_TIGRE_PDF_FILE_PATH)\n",
    "\n",
    "for i in range(len(images)): \n",
    "    image_path =  f'{CORPUS_PUB_2_IMAGES_TIGRE_FILE_PATH}/{str(i)}.jpg'\n",
    "    print(image_path)\n",
    "    images[i].save(image_path, 'JPEG') "
   ]
  },
  {
   "cell_type": "code",
   "execution_count": 10,
   "metadata": {},
   "outputs": [
    {
     "name": "stdout",
     "output_type": "stream",
     "text": [
      "/opt/upgrad/tigre-corpora/corpus/pub_2/images/english/0.jpg\n",
      "/opt/upgrad/tigre-corpora/corpus/pub_2/images/english/1.jpg\n",
      "/opt/upgrad/tigre-corpora/corpus/pub_2/images/english/2.jpg\n",
      "/opt/upgrad/tigre-corpora/corpus/pub_2/images/english/3.jpg\n",
      "/opt/upgrad/tigre-corpora/corpus/pub_2/images/english/4.jpg\n",
      "/opt/upgrad/tigre-corpora/corpus/pub_2/images/english/5.jpg\n"
     ]
    }
   ],
   "source": [
    "# ENGLISH\n",
    "from pdf2image import convert_from_path  \n",
    "    \n",
    "images = convert_from_path(CORPUS_PUB_2_ENGLISH_PDF_FILE_PATH)\n",
    "\n",
    "for i in range(len(images)): \n",
    "    image_path =  f'{CORPUS_PUB_2_IMAGES_ENGLISH_FILE_PATH}/{str(i)}.jpg'\n",
    "    print(image_path)\n",
    "    images[i].save(image_path, 'JPEG')"
   ]
  },
  {
   "cell_type": "code",
   "execution_count": 15,
   "metadata": {},
   "outputs": [
    {
     "name": "stdout",
     "output_type": "stream",
     "text": [
      "/opt/upgrad/tigre-corpora/corpus/pub_2/images/tigre/0.jpg\n",
      "/opt/upgrad/tigre-corpora/corpus/pub_2/images/tigre/1.jpg\n",
      "/opt/upgrad/tigre-corpora/corpus/pub_2/images/tigre/2.jpg\n",
      "/opt/upgrad/tigre-corpora/corpus/pub_2/images/tigre/3.jpg\n",
      "/opt/upgrad/tigre-corpora/corpus/pub_2/images/tigre/4.jpg\n",
      "/opt/upgrad/tigre-corpora/corpus/pub_2/images/tigre/5.jpg\n"
     ]
    }
   ],
   "source": [
    "# TIGRE\n",
    "import os\n",
    "import pytesseract\n",
    "import cv2  \n",
    "\n",
    "files = os.listdir(CORPUS_PUB_2_IMAGES_TIGRE_FILE_PATH)\n",
    "\n",
    "files.sort(reverse=False)\n",
    "\n",
    "open(CORPUS_PUB_2_TIGRE_TEXT_FILE_PATH, 'w').close()\n",
    "\n",
    "for file in files:\n",
    "    image_path=f'{CORPUS_PUB_2_IMAGES_TIGRE_FILE_PATH}/{file}'\n",
    "    print(image_path)\n",
    "    img = cv2.imread(image_path) \n",
    "    text = pytesseract.image_to_string(img, lang=\"amh\")\n",
    "    static_file = open(CORPUS_PUB_2_TIGRE_TEXT_FILE_PATH, \"a\")  # append mode\n",
    "    static_file.write(f\"{text} \\n\")\n",
    "    static_file.close() \n",
    "    \n",
    "cv2.waitKey(0)\n",
    "cv2.destroyAllWindows()\n",
    "\n"
   ]
  },
  {
   "cell_type": "code",
   "execution_count": 17,
   "metadata": {},
   "outputs": [
    {
     "name": "stdout",
     "output_type": "stream",
     "text": [
      "/opt/upgrad/tigre-corpora/corpus/pub_2/images/english/0.jpg\n",
      "/opt/upgrad/tigre-corpora/corpus/pub_2/images/english/1.jpg\n",
      "/opt/upgrad/tigre-corpora/corpus/pub_2/images/english/2.jpg\n",
      "/opt/upgrad/tigre-corpora/corpus/pub_2/images/english/3.jpg\n",
      "/opt/upgrad/tigre-corpora/corpus/pub_2/images/english/4.jpg\n",
      "/opt/upgrad/tigre-corpora/corpus/pub_2/images/english/5.jpg\n"
     ]
    }
   ],
   "source": [
    "# ENGLISH\n",
    "import os\n",
    "import pytesseract\n",
    "import cv2 \n",
    "\n",
    "files = os.listdir(CORPUS_PUB_2_IMAGES_ENGLISH_FILE_PATH)\n",
    "\n",
    "files.sort(reverse=False)\n",
    "\n",
    "open(CORPUS_PUB_2_ENGLISH_TEXT_FILE_PATH, 'w').close()\n",
    "\n",
    "for file in files:\n",
    "    image_path=f'{CORPUS_PUB_2_IMAGES_ENGLISH_FILE_PATH}/{file}'\n",
    "    print(image_path)\n",
    "    img = cv2.imread(image_path) \n",
    "    text = pytesseract.image_to_string(img, lang=\"eng\")\n",
    "    static_file = open(CORPUS_PUB_2_ENGLISH_TEXT_FILE_PATH, \"a\")  # append mode\n",
    "    static_file.write(f\"{text} \\n\")\n",
    "    static_file.close() \n",
    "    \n",
    "cv2.waitKey(0)\n",
    "cv2.destroyAllWindows()"
   ]
  }
 ],
 "metadata": {
  "kernelspec": {
   "display_name": "venv",
   "language": "python",
   "name": "python3"
  },
  "language_info": {
   "codemirror_mode": {
    "name": "ipython",
    "version": 3
   },
   "file_extension": ".py",
   "mimetype": "text/x-python",
   "name": "python",
   "nbconvert_exporter": "python",
   "pygments_lexer": "ipython3",
   "version": "3.10.12"
  }
 },
 "nbformat": 4,
 "nbformat_minor": 2
}
